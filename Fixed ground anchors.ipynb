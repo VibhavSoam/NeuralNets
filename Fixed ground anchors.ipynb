{
 "cells": [
  {
   "cell_type": "code",
   "execution_count": 7,
   "id": "dcd513af",
   "metadata": {},
   "outputs": [],
   "source": [
    "import numpy as np\n",
    "from scipy.optimize import minimize\n"
   ]
  },
  {
   "cell_type": "code",
   "execution_count": 8,
   "id": "72c32f76",
   "metadata": {},
   "outputs": [],
   "source": [
    "d0 = 1\n",
    "P0_d0 = -40\n",
    "gamma = 2.0\n",
    "R = 50\n",
    "\n",
    "anchor_nodes = np.array([\n",
    "    [0, 0],\n",
    "    [50, 0],\n",
    "    [0, 50],\n",
    "    [50, 50]\n",
    "])\n",
    "\n",
    "rssi_measurements = np.array([-50, -52, -48, -51])"
   ]
  },
  {
   "cell_type": "code",
   "execution_count": 9,
   "id": "30635469",
   "metadata": {},
   "outputs": [],
   "source": [
    "def estimate_distance(rssi):\n",
    "    return d0 * 10 ** ((P0_d0 - rssi) / (10 * gamma))\n",
    "\n",
    "distances = np.array([estimate_distance(rssi) for rssi in rssi_measurements])\n"
   ]
  },
  {
   "cell_type": "code",
   "execution_count": 10,
   "id": "dd774966",
   "metadata": {},
   "outputs": [
    {
     "name": "stdout",
     "output_type": "stream",
     "text": [
      "Anchor Nodes:\n",
      "[[ 0  0]\n",
      " [50  0]\n",
      " [ 0 50]\n",
      " [50 50]]\n",
      "Measured RSSI:\n",
      "[-50 -52 -48 -51]\n",
      "Estimated Distances:\n",
      "[3.16227766 3.98107171 2.51188643 3.54813389]\n",
      "Estimated UN Position:\n",
      "[24.65587044 25.20117151]\n"
     ]
    }
   ],
   "source": [
    "def localization_error(un_pos, anchors, distances):\n",
    "    error = 0\n",
    "    for i in range(len(anchors)):\n",
    "        estimated_distance = np.linalg.norm(un_pos - anchors[i])\n",
    "        error += (estimated_distance - distances[i]) ** 2\n",
    "    return error\n",
    "\n",
    "initial_guess = np.array([25, 25])\n",
    "\n",
    "result = minimize(localization_error, initial_guess, args=(anchor_nodes, distances), method='BFGS')\n",
    "\n",
    "un_position = result.x\n",
    "\n",
    "print(\"Anchor Nodes:\")\n",
    "print(anchor_nodes)\n",
    "print(\"Measured RSSI:\")\n",
    "print(rssi_measurements)\n",
    "print(\"Estimated Distances:\")\n",
    "print(distances)\n",
    "print(\"Estimated UN Position:\")\n",
    "print(un_position)\n"
   ]
  },
  {
   "cell_type": "code",
   "execution_count": null,
   "id": "80dd00ae",
   "metadata": {},
   "outputs": [],
   "source": []
  },
  {
   "cell_type": "code",
   "execution_count": null,
   "id": "4eba1940",
   "metadata": {},
   "outputs": [],
   "source": []
  }
 ],
 "metadata": {
  "kernelspec": {
   "display_name": "Python 3 (ipykernel)",
   "language": "python",
   "name": "python3"
  },
  "language_info": {
   "codemirror_mode": {
    "name": "ipython",
    "version": 3
   },
   "file_extension": ".py",
   "mimetype": "text/x-python",
   "name": "python",
   "nbconvert_exporter": "python",
   "pygments_lexer": "ipython3",
   "version": "3.11.5"
  }
 },
 "nbformat": 4,
 "nbformat_minor": 5
}
